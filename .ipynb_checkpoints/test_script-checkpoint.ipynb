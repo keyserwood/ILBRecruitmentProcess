{
 "cells": [
  {
   "cell_type": "code",
   "execution_count": 1,
   "metadata": {},
   "outputs": [],
   "source": [
    "#!/usr/bin/env python3\n",
    "# -*- coding: utf-8 -*-\n",
    "\n",
    "# 1. Effectuez toutes les opérations détaillées ci-dessous. \n",
    "# 2. Ces modules peuvent vous aidez mais si vous voulez/pouvez faire sans c'est possible aussi.\n",
    "# 3. Vous pouvez utiliser internet sans limite, ce ne sera pas pénalisé.\n",
    "# 4. Si vous êtes bloqué par un détail technique, n'hésitez pas à poser des questions.\n",
    "\n",
    "import pandas as pd\n",
    "import numpy as np\n",
    "import matplotlib.pyplot as plt\n",
    "import seaborn as sns\n",
    "import sklearn\n",
    "\n",
    "data_path = \"/media/ubuntu/Data/RH_TEST/Data/creditcard.csv\""
   ]
  },
  {
   "cell_type": "markdown",
   "metadata": {},
   "source": [
    "### 1. CHARGER LES DONNEES DISPONIBLES SUR data_path "
   ]
  },
  {
   "cell_type": "code",
   "execution_count": null,
   "metadata": {},
   "outputs": [],
   "source": []
  },
  {
   "cell_type": "markdown",
   "metadata": {},
   "source": [
    "### 2. VISUALISER LA VARIABLE target"
   ]
  },
  {
   "cell_type": "code",
   "execution_count": null,
   "metadata": {},
   "outputs": [],
   "source": []
  },
  {
   "cell_type": "markdown",
   "metadata": {},
   "source": [
    "### 3. ANALYSER LES CORRELATIONS ENTRE features & target"
   ]
  },
  {
   "cell_type": "code",
   "execution_count": null,
   "metadata": {},
   "outputs": [],
   "source": []
  },
  {
   "cell_type": "markdown",
   "metadata": {},
   "source": [
    "### 4.1. SEPARER LES DONNEES ENTRE variables explicatives & cible \n",
    "### 4.2. SEPARER LES DONNEES ENTRE train_set ET test_set"
   ]
  },
  {
   "cell_type": "code",
   "execution_count": null,
   "metadata": {},
   "outputs": [],
   "source": []
  },
  {
   "cell_type": "markdown",
   "metadata": {},
   "source": [
    "### 5.1. LANCER UN MODELE SIMPLE DE CLASSIFICATION SUR LES DONNEES \n",
    "### 5.2. LES PREDICTION SONT ATTENDUES DANS UNE VARIABLE \"y_pred\" "
   ]
  },
  {
   "cell_type": "code",
   "execution_count": null,
   "metadata": {},
   "outputs": [],
   "source": []
  },
  {
   "cell_type": "markdown",
   "metadata": {},
   "source": [
    "### 6. TESTER VOTRE MODELE AVEC UNE METRIQUE DE VOTRE CHOIX "
   ]
  },
  {
   "cell_type": "code",
   "execution_count": null,
   "metadata": {},
   "outputs": [],
   "source": []
  }
 ],
 "metadata": {
  "kernelspec": {
   "display_name": "Python 3",
   "language": "python",
   "name": "python3"
  },
  "language_info": {
   "codemirror_mode": {
    "name": "ipython",
    "version": 3
   },
   "file_extension": ".py",
   "mimetype": "text/x-python",
   "name": "python",
   "nbconvert_exporter": "python",
   "pygments_lexer": "ipython3",
   "version": "3.7.6"
  }
 },
 "nbformat": 4,
 "nbformat_minor": 2
}
