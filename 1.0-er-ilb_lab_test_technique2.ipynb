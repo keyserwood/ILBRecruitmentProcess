{
 "cells": [
  {
   "cell_type": "markdown",
   "metadata": {},
   "source": [
    "# Première analyse du dataset"
   ]
  },
  {
   "cell_type": "markdown",
   "metadata": {},
   "source": [
    "## Quelques informations sur les données"
   ]
  },
  {
   "cell_type": "markdown",
   "metadata": {},
   "source": [
    "L’objectif est de développer **un modèle performant** pour prédire la **variable Output** en fonction des **autres variables pertinentes**. La plupart des variables ont un nom décrivant l’information contenue.\n",
    "\n",
    " \n",
    "\n",
    "**Quelques informations :**\n",
    "\n",
    "* Les variables finissant en _M : variables calculées au mois M\n",
    "* Les variables finissant en _MY : variables calculées au mois M-Y\n",
    "* Les variables finissant en _XM : variables calculées sur les mois M-X au mois M \n",
    "\n"
   ]
  },
  {
   "cell_type": "markdown",
   "metadata": {},
   "source": [
    "### Librairies pour l'analyse"
   ]
  },
  {
   "cell_type": "code",
   "execution_count": 56,
   "metadata": {},
   "outputs": [],
   "source": [
    "import pandas as pd\n",
    "import numpy as np \n",
    "import seaborn as sns\n",
    "import math"
   ]
  },
  {
   "cell_type": "markdown",
   "metadata": {},
   "source": [
    "# Chargement des données"
   ]
  },
  {
   "cell_type": "code",
   "execution_count": 19,
   "metadata": {},
   "outputs": [],
   "source": [
    "df = pd.read_csv('Dataset_test_ILB.csv',encoding=\"latin1\",sep=';',decimal=',')\n",
    "# Encodage latin1 car le fichier n'est pas encodé en UTF8, selection de \",\" en séparateur décimal"
   ]
  },
  {
   "cell_type": "markdown",
   "metadata": {},
   "source": [
    "### Analyse du df et de ses composantes"
   ]
  },
  {
   "cell_type": "code",
   "execution_count": 23,
   "metadata": {},
   "outputs": [
    {
     "name": "stdout",
     "output_type": "stream",
     "text": [
      "<class 'pandas.core.frame.DataFrame'>\n",
      "RangeIndex: 3015 entries, 0 to 3014\n",
      "Data columns (total 27 columns):\n",
      " #   Column                                Non-Null Count  Dtype  \n",
      "---  ------                                --------------  -----  \n",
      " 0   ID                                    3015 non-null   int64  \n",
      " 1   Nombres_adultes                       3005 non-null   float64\n",
      " 2   Nombre_personnes_foyer                3006 non-null   float64\n",
      " 3   Age_2eme_personne                     3013 non-null   float64\n",
      " 4   Note_credit                           3010 non-null   float64\n",
      " 5   Encours_credit                        2993 non-null   object \n",
      " 6   ID_PP                                 3008 non-null   object \n",
      " 7   Encours_credit_habitat                3011 non-null   float64\n",
      " 8   Montant_flux_crediteur_M1             3011 non-null   float64\n",
      " 9   Montant_obligations                   3011 non-null   float64\n",
      " 10  Montant_operation_crediteur_DAV_M1    3002 non-null   float64\n",
      " 11  Montant_operation_crediteur_DAV_M     2994 non-null   float64\n",
      " 12  Montant_operation_debiteur_DAV_M1     2979 non-null   float64\n",
      " 13  Montant_operation_debiteur_DAV_M      2980 non-null   float64\n",
      " 14  Montant_retrait_carte_M               2998 non-null   float64\n",
      " 15  Montant_retrait_carte_M1              3008 non-null   float64\n",
      " 16  CSP                                   3010 non-null   object \n",
      " 17  Nombre_retrait_carte_M1               3011 non-null   float64\n",
      " 18  Nombre_retrait_carte_M1,1             3010 non-null   float64\n",
      " 19  Quantité_obligations                  3009 non-null   float64\n",
      " 20  Nombre_connexion_appli_6M             2994 non-null   float64\n",
      " 21  Nombre_de_connexion_appli_semaine_6M  2994 non-null   float64\n",
      " 22  Nombre_connexion_site_6M              2996 non-null   float64\n",
      " 23  Duree_connexion_moyenne_6M            3006 non-null   float64\n",
      " 24  Montant_flux_crediteur_M              3009 non-null   float64\n",
      " 25  Montant_pret_banque                   3008 non-null   float64\n",
      " 26  Output                                3007 non-null   object \n",
      "dtypes: float64(22), int64(1), object(4)\n",
      "memory usage: 636.1+ KB\n"
     ]
    }
   ],
   "source": [
    "df.info()"
   ]
  },
  {
   "cell_type": "code",
   "execution_count": 24,
   "metadata": {},
   "outputs": [
    {
     "data": {
      "text/html": [
       "<div>\n",
       "<style scoped>\n",
       "    .dataframe tbody tr th:only-of-type {\n",
       "        vertical-align: middle;\n",
       "    }\n",
       "\n",
       "    .dataframe tbody tr th {\n",
       "        vertical-align: top;\n",
       "    }\n",
       "\n",
       "    .dataframe thead th {\n",
       "        text-align: right;\n",
       "    }\n",
       "</style>\n",
       "<table border=\"1\" class=\"dataframe\">\n",
       "  <thead>\n",
       "    <tr style=\"text-align: right;\">\n",
       "      <th></th>\n",
       "      <th>ID</th>\n",
       "      <th>Nombres_adultes</th>\n",
       "      <th>Nombre_personnes_foyer</th>\n",
       "      <th>Age_2eme_personne</th>\n",
       "      <th>Note_credit</th>\n",
       "      <th>Encours_credit</th>\n",
       "      <th>ID_PP</th>\n",
       "      <th>Encours_credit_habitat</th>\n",
       "      <th>Montant_flux_crediteur_M1</th>\n",
       "      <th>Montant_obligations</th>\n",
       "      <th>...</th>\n",
       "      <th>Nombre_retrait_carte_M1</th>\n",
       "      <th>Nombre_retrait_carte_M1,1</th>\n",
       "      <th>Quantité_obligations</th>\n",
       "      <th>Nombre_connexion_appli_6M</th>\n",
       "      <th>Nombre_de_connexion_appli_semaine_6M</th>\n",
       "      <th>Nombre_connexion_site_6M</th>\n",
       "      <th>Duree_connexion_moyenne_6M</th>\n",
       "      <th>Montant_flux_crediteur_M</th>\n",
       "      <th>Montant_pret_banque</th>\n",
       "      <th>Output</th>\n",
       "    </tr>\n",
       "  </thead>\n",
       "  <tbody>\n",
       "    <tr>\n",
       "      <th>0</th>\n",
       "      <td>2911</td>\n",
       "      <td>2.057430</td>\n",
       "      <td>2.070880</td>\n",
       "      <td>91.042848</td>\n",
       "      <td>0.177448</td>\n",
       "      <td>4715,49819</td>\n",
       "      <td>732f2de9240c404122f8c97b952c4cb8be8ede7f</td>\n",
       "      <td>2772.907651</td>\n",
       "      <td>9005.374276</td>\n",
       "      <td>5897.737602</td>\n",
       "      <td>...</td>\n",
       "      <td>0.160537</td>\n",
       "      <td>0.094456</td>\n",
       "      <td>262736.76140</td>\n",
       "      <td>46.683372</td>\n",
       "      <td>41.184480</td>\n",
       "      <td>48.057303</td>\n",
       "      <td>28.811906</td>\n",
       "      <td>5757.583993</td>\n",
       "      <td>124370.2918</td>\n",
       "      <td>FAUX</td>\n",
       "    </tr>\n",
       "    <tr>\n",
       "      <th>1</th>\n",
       "      <td>1398</td>\n",
       "      <td>2.060715</td>\n",
       "      <td>2.193722</td>\n",
       "      <td>90.715413</td>\n",
       "      <td>-0.062708</td>\n",
       "      <td>6584,320922</td>\n",
       "      <td>1cc77d640ec2c383bef7099ff331d2ae962fd712</td>\n",
       "      <td>7094.588072</td>\n",
       "      <td>5047.824214</td>\n",
       "      <td>55655.446030</td>\n",
       "      <td>...</td>\n",
       "      <td>-0.172851</td>\n",
       "      <td>-0.170338</td>\n",
       "      <td>157962.64670</td>\n",
       "      <td>6.806368</td>\n",
       "      <td>9.210575</td>\n",
       "      <td>12.027955</td>\n",
       "      <td>-8.664351</td>\n",
       "      <td>2825.730247</td>\n",
       "      <td>130015.4600</td>\n",
       "      <td>FAUX</td>\n",
       "    </tr>\n",
       "    <tr>\n",
       "      <th>2</th>\n",
       "      <td>1793</td>\n",
       "      <td>1.930472</td>\n",
       "      <td>1.946847</td>\n",
       "      <td>90.588554</td>\n",
       "      <td>-0.094438</td>\n",
       "      <td>-7792,256696</td>\n",
       "      <td>34d7809e534d6e7d83e1439cd4032201386fe9dd</td>\n",
       "      <td>-7613.883523</td>\n",
       "      <td>-692.852208</td>\n",
       "      <td>2277.193995</td>\n",
       "      <td>...</td>\n",
       "      <td>-0.037880</td>\n",
       "      <td>-0.086625</td>\n",
       "      <td>-26034.01144</td>\n",
       "      <td>3.442761</td>\n",
       "      <td>4.988904</td>\n",
       "      <td>7.072354</td>\n",
       "      <td>-21.135796</td>\n",
       "      <td>1679.601033</td>\n",
       "      <td>130904.7126</td>\n",
       "      <td>FAUX</td>\n",
       "    </tr>\n",
       "    <tr>\n",
       "      <th>3</th>\n",
       "      <td>1193</td>\n",
       "      <td>1.963631</td>\n",
       "      <td>1.916677</td>\n",
       "      <td>89.300012</td>\n",
       "      <td>-0.286729</td>\n",
       "      <td>6118,791869</td>\n",
       "      <td>1539c6f04d9403928ef4e5b662490bd4787ad71d</td>\n",
       "      <td>5874.214001</td>\n",
       "      <td>1408.588664</td>\n",
       "      <td>8280.325647</td>\n",
       "      <td>...</td>\n",
       "      <td>0.994902</td>\n",
       "      <td>0.001148</td>\n",
       "      <td>336491.25330</td>\n",
       "      <td>-6.298359</td>\n",
       "      <td>-7.873857</td>\n",
       "      <td>-9.758806</td>\n",
       "      <td>-6.232009</td>\n",
       "      <td>4059.963478</td>\n",
       "      <td>123729.3778</td>\n",
       "      <td>FAUX</td>\n",
       "    </tr>\n",
       "    <tr>\n",
       "      <th>4</th>\n",
       "      <td>1342</td>\n",
       "      <td>2.009754</td>\n",
       "      <td>2.019892</td>\n",
       "      <td>87.706161</td>\n",
       "      <td>0.284325</td>\n",
       "      <td>-4266,843489</td>\n",
       "      <td>27524f055875f70d102006ee6dcb360e982c4a69</td>\n",
       "      <td>-4459.202674</td>\n",
       "      <td>-889.296675</td>\n",
       "      <td>59977.521970</td>\n",
       "      <td>...</td>\n",
       "      <td>-0.027045</td>\n",
       "      <td>0.080714</td>\n",
       "      <td>-10631.26532</td>\n",
       "      <td>3.056277</td>\n",
       "      <td>4.414500</td>\n",
       "      <td>5.862660</td>\n",
       "      <td>-28.520162</td>\n",
       "      <td>1719.696619</td>\n",
       "      <td>126770.7544</td>\n",
       "      <td>FAUX</td>\n",
       "    </tr>\n",
       "  </tbody>\n",
       "</table>\n",
       "<p>5 rows × 27 columns</p>\n",
       "</div>"
      ],
      "text/plain": [
       "     ID  Nombres_adultes  Nombre_personnes_foyer  Age_2eme_personne  \\\n",
       "0  2911         2.057430                2.070880          91.042848   \n",
       "1  1398         2.060715                2.193722          90.715413   \n",
       "2  1793         1.930472                1.946847          90.588554   \n",
       "3  1193         1.963631                1.916677          89.300012   \n",
       "4  1342         2.009754                2.019892          87.706161   \n",
       "\n",
       "   Note_credit Encours_credit                                     ID_PP  \\\n",
       "0     0.177448     4715,49819  732f2de9240c404122f8c97b952c4cb8be8ede7f   \n",
       "1    -0.062708    6584,320922  1cc77d640ec2c383bef7099ff331d2ae962fd712   \n",
       "2    -0.094438   -7792,256696  34d7809e534d6e7d83e1439cd4032201386fe9dd   \n",
       "3    -0.286729    6118,791869  1539c6f04d9403928ef4e5b662490bd4787ad71d   \n",
       "4     0.284325   -4266,843489  27524f055875f70d102006ee6dcb360e982c4a69   \n",
       "\n",
       "   Encours_credit_habitat  Montant_flux_crediteur_M1  Montant_obligations  \\\n",
       "0             2772.907651                9005.374276          5897.737602   \n",
       "1             7094.588072                5047.824214         55655.446030   \n",
       "2            -7613.883523                -692.852208          2277.193995   \n",
       "3             5874.214001                1408.588664          8280.325647   \n",
       "4            -4459.202674                -889.296675         59977.521970   \n",
       "\n",
       "   ...  Nombre_retrait_carte_M1  Nombre_retrait_carte_M1,1  \\\n",
       "0  ...                 0.160537                   0.094456   \n",
       "1  ...                -0.172851                  -0.170338   \n",
       "2  ...                -0.037880                  -0.086625   \n",
       "3  ...                 0.994902                   0.001148   \n",
       "4  ...                -0.027045                   0.080714   \n",
       "\n",
       "   Quantité_obligations  Nombre_connexion_appli_6M  \\\n",
       "0          262736.76140                  46.683372   \n",
       "1          157962.64670                   6.806368   \n",
       "2          -26034.01144                   3.442761   \n",
       "3          336491.25330                  -6.298359   \n",
       "4          -10631.26532                   3.056277   \n",
       "\n",
       "   Nombre_de_connexion_appli_semaine_6M  Nombre_connexion_site_6M  \\\n",
       "0                             41.184480                 48.057303   \n",
       "1                              9.210575                 12.027955   \n",
       "2                              4.988904                  7.072354   \n",
       "3                             -7.873857                 -9.758806   \n",
       "4                              4.414500                  5.862660   \n",
       "\n",
       "  Duree_connexion_moyenne_6M  Montant_flux_crediteur_M  Montant_pret_banque  \\\n",
       "0                  28.811906               5757.583993          124370.2918   \n",
       "1                  -8.664351               2825.730247          130015.4600   \n",
       "2                 -21.135796               1679.601033          130904.7126   \n",
       "3                  -6.232009               4059.963478          123729.3778   \n",
       "4                 -28.520162               1719.696619          126770.7544   \n",
       "\n",
       "   Output  \n",
       "0    FAUX  \n",
       "1    FAUX  \n",
       "2    FAUX  \n",
       "3    FAUX  \n",
       "4    FAUX  \n",
       "\n",
       "[5 rows x 27 columns]"
      ]
     },
     "execution_count": 24,
     "metadata": {},
     "output_type": "execute_result"
    }
   ],
   "source": [
    "df.head()"
   ]
  },
  {
   "cell_type": "markdown",
   "metadata": {},
   "source": [
    "La majorité des colonnes qui contiennt des float ont bien été converties, sauf **Encours_credit**\n",
    "> **Encours_credit**: Argent qui a été prêté mais qui n'a pas encore été remboursé."
   ]
  },
  {
   "cell_type": "markdown",
   "metadata": {},
   "source": [
    "On comprend mieux pourquoi la conversion n'a pas pu se faire, il faut prendre en compte les personnes qui n'ont pas d'encours credit"
   ]
  },
  {
   "cell_type": "markdown",
   "metadata": {},
   "source": [
    "#### Formatte d'encours_credit\n",
    "\n",
    "Pour que l'encours credit garde son sens, je propose de séparer cette colonne en deux colonnes : \n",
    "\n",
    "| Encours_credit_bool             | Encours_credit_value |\n",
    "| ------------------------------- | -------------------- |\n",
    "| True                            | -1151                |\n",
    "| False (Remplace 'PAS DENCOURS') | NaN                  |\n",
    "\n"
   ]
  },
  {
   "cell_type": "code",
   "execution_count": 57,
   "metadata": {},
   "outputs": [],
   "source": [
    "\"\"\"Création de deux array encours_credit_bool & encours_credit_value \"\"\"\n",
    "def create_encours_credit_bool_and_value(df):\n",
    "    encours_credit = df['Encours_credit'].tolist()\n",
    "    \"\"\"Fonction qui construit les deux array évoqués ci-dessus\"\"\"\n",
    "    encours_credit_bool = [True]*len(encours_credit)\n",
    "    encours_credit_value =[np.nan]*len(encours_credit)\n",
    "    for (i,encours) in enumerate(encours_credit): \n",
    "        \"\"\"Parcourt la liste encours_credit : encours est un str pour le moment\"\"\"\n",
    "        if encours ==\"PAS DENCOURS\":\n",
    "            encours_credit_bool[i] = False\n",
    "        else : \n",
    "            \"\"\"Il y a bien un encours, il va falloir convertir le str en float : attention sep ',' \"\"\"\n",
    "            try :\n",
    "                \"\"\"Il se peut que encours soit un NaN c'est pourquoi o\"\"\"\n",
    "                encours_float = '.'.join(encours.split(',')) # Utilisation de split pour la conversion\n",
    "                encours_float = float(encours_float)\n",
    "                encours_credit_value[i] = encours_float\n",
    "            except : \n",
    "                \n",
    "    \"\"\"On peut renvoyer les array\"\"\"\n",
    "    return(encours_credit_bool,encours_credit_value)"
   ]
  },
  {
   "cell_type": "code",
   "execution_count": 41,
   "metadata": {},
   "outputs": [],
   "source": [
    "val = df[\"Encours_credit\"].tolist()[0].split(',')"
   ]
  },
  {
   "cell_type": "code",
   "execution_count": 58,
   "metadata": {},
   "outputs": [
    {
     "ename": "TypeError",
     "evalue": "must be real number, not str",
     "output_type": "error",
     "traceback": [
      "\u001b[0;31m---------------------------------------------------------------------------\u001b[0m",
      "\u001b[0;31mTypeError\u001b[0m                                 Traceback (most recent call last)",
      "\u001b[0;32m<ipython-input-58-63cfa91d2a1a>\u001b[0m in \u001b[0;36m<module>\u001b[0;34m\u001b[0m\n\u001b[0;32m----> 1\u001b[0;31m \u001b[0mcreate_encours_credit_bool_and_value\u001b[0m\u001b[0;34m(\u001b[0m\u001b[0mdf\u001b[0m\u001b[0;34m)\u001b[0m\u001b[0;34m\u001b[0m\u001b[0;34m\u001b[0m\u001b[0m\n\u001b[0m",
      "\u001b[0;32m<ipython-input-57-f81ae523e1d0>\u001b[0m in \u001b[0;36mcreate_encours_credit_bool_and_value\u001b[0;34m(df)\u001b[0m\n\u001b[1;32m      9\u001b[0m         \u001b[0;32mif\u001b[0m \u001b[0mencours\u001b[0m \u001b[0;34m==\u001b[0m\u001b[0;34m\"PAS DENCOURS\"\u001b[0m\u001b[0;34m:\u001b[0m\u001b[0;34m\u001b[0m\u001b[0;34m\u001b[0m\u001b[0m\n\u001b[1;32m     10\u001b[0m             \u001b[0mencours_credit_bool\u001b[0m\u001b[0;34m[\u001b[0m\u001b[0mi\u001b[0m\u001b[0;34m]\u001b[0m \u001b[0;34m=\u001b[0m \u001b[0;32mFalse\u001b[0m\u001b[0;34m\u001b[0m\u001b[0;34m\u001b[0m\u001b[0m\n\u001b[0;32m---> 11\u001b[0;31m         \u001b[0;32melif\u001b[0m \u001b[0mmath\u001b[0m\u001b[0;34m.\u001b[0m\u001b[0misnan\u001b[0m\u001b[0;34m(\u001b[0m\u001b[0mencours\u001b[0m\u001b[0;34m)\u001b[0m\u001b[0;34m:\u001b[0m\u001b[0;34m\u001b[0m\u001b[0;34m\u001b[0m\u001b[0m\n\u001b[0m\u001b[1;32m     12\u001b[0m             \u001b[0;34m\"encours peut-être un NaN\"\u001b[0m\u001b[0;34m\u001b[0m\u001b[0;34m\u001b[0m\u001b[0m\n\u001b[1;32m     13\u001b[0m             \u001b[0mencours_credit_bool\u001b[0m\u001b[0;34m[\u001b[0m\u001b[0mi\u001b[0m\u001b[0;34m]\u001b[0m \u001b[0;34m=\u001b[0m \u001b[0mnp\u001b[0m\u001b[0;34m.\u001b[0m\u001b[0mnan\u001b[0m\u001b[0;34m\u001b[0m\u001b[0;34m\u001b[0m\u001b[0m\n",
      "\u001b[0;31mTypeError\u001b[0m: must be real number, not str"
     ]
    }
   ],
   "source": [
    "create_encours_credit_bool_and_value(df)"
   ]
  },
  {
   "cell_type": "code",
   "execution_count": 43,
   "metadata": {},
   "outputs": [
    {
     "data": {
      "text/plain": [
       "'4715.49819'"
      ]
     },
     "execution_count": 43,
     "metadata": {},
     "output_type": "execute_result"
    }
   ],
   "source": [
    "'.'.join(val)"
   ]
  },
  {
   "cell_type": "code",
   "execution_count": 12,
   "metadata": {},
   "outputs": [
    {
     "name": "stdout",
     "output_type": "stream",
     "text": [
      "<class 'pandas.core.frame.DataFrame'>\n",
      "RangeIndex: 3015 entries, 0 to 3014\n",
      "Data columns (total 27 columns):\n",
      " #   Column                                Non-Null Count  Dtype  \n",
      "---  ------                                --------------  -----  \n",
      " 0   ID                                    3015 non-null   int64  \n",
      " 1   Nombres_adultes                       3005 non-null   float64\n",
      " 2   Nombre_personnes_foyer                3006 non-null   float64\n",
      " 3   Age_2eme_personne                     3013 non-null   float64\n",
      " 4   Note_credit                           3010 non-null   float64\n",
      " 5   Encours_credit                        2993 non-null   object \n",
      " 6   ID_PP                                 3008 non-null   object \n",
      " 7   Encours_credit_habitat                3011 non-null   float64\n",
      " 8   Montant_flux_crediteur_M1             3011 non-null   float64\n",
      " 9   Montant_obligations                   3011 non-null   float64\n",
      " 10  Montant_operation_crediteur_DAV_M1    3002 non-null   float64\n",
      " 11  Montant_operation_crediteur_DAV_M     2994 non-null   float64\n",
      " 12  Montant_operation_debiteur_DAV_M1     2979 non-null   float64\n",
      " 13  Montant_operation_debiteur_DAV_M      2980 non-null   float64\n",
      " 14  Montant_retrait_carte_M               2998 non-null   float64\n",
      " 15  Montant_retrait_carte_M1              3008 non-null   float64\n",
      " 16  CSP                                   3010 non-null   object \n",
      " 17  Nombre_retrait_carte_M1               3011 non-null   float64\n",
      " 18  Nombre_retrait_carte_M1,1             3010 non-null   float64\n",
      " 19  Quantité_obligations                  3009 non-null   float64\n",
      " 20  Nombre_connexion_appli_6M             2994 non-null   float64\n",
      " 21  Nombre_de_connexion_appli_semaine_6M  2994 non-null   float64\n",
      " 22  Nombre_connexion_site_6M              2996 non-null   float64\n",
      " 23  Duree_connexion_moyenne_6M            3006 non-null   float64\n",
      " 24  Montant_flux_crediteur_M              3009 non-null   float64\n",
      " 25  Montant_pret_banque                   3008 non-null   float64\n",
      " 26  Output                                3007 non-null   object \n",
      "dtypes: float64(22), int64(1), object(4)\n",
      "memory usage: 636.1+ KB\n"
     ]
    }
   ],
   "source": [
    "df.info()"
   ]
  }
 ],
 "metadata": {
  "kernelspec": {
   "display_name": "Python 3",
   "language": "python",
   "name": "python3"
  },
  "language_info": {
   "codemirror_mode": {
    "name": "ipython",
    "version": 3
   },
   "file_extension": ".py",
   "mimetype": "text/x-python",
   "name": "python",
   "nbconvert_exporter": "python",
   "pygments_lexer": "ipython3",
   "version": "3.7.6"
  }
 },
 "nbformat": 4,
 "nbformat_minor": 4
}
